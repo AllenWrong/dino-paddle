{
 "cells": [
  {
   "cell_type": "code",
   "execution_count": 2,
   "id": "39825e44",
   "metadata": {},
   "outputs": [],
   "source": [
    "import torch\n",
    "from torch import nn"
   ]
  },
  {
   "cell_type": "code",
   "execution_count": 3,
   "id": "09f78e80",
   "metadata": {},
   "outputs": [],
   "source": [
    "class LinearClassifier(nn.Module):\n",
    "    \"\"\"Linear layer to train on top of frozen features\"\"\"\n",
    "    def __init__(self, dim, num_labels=1000):\n",
    "        super(LinearClassifier, self).__init__()\n",
    "        self.num_labels = num_labels\n",
    "        self.linear = nn.Linear(dim, num_labels)\n",
    "        self.linear.weight.data.normal_(mean=0.0, std=0.01)\n",
    "        self.linear.bias.data.zero_()\n",
    "\n",
    "    def forward(self, x):\n",
    "        # flatten\n",
    "        x = x.view(x.size(0), -1)\n",
    "\n",
    "        # linear layer\n",
    "        return self.linear(x)"
   ]
  },
  {
   "cell_type": "code",
   "execution_count": 4,
   "id": "2576e53b",
   "metadata": {},
   "outputs": [],
   "source": [
    "fake_data = torch.rand(128, 328)"
   ]
  },
  {
   "cell_type": "code",
   "execution_count": 5,
   "id": "724f83fa",
   "metadata": {},
   "outputs": [],
   "source": [
    "clf = LinearClassifier(328)"
   ]
  },
  {
   "cell_type": "code",
   "execution_count": 7,
   "id": "b0101835",
   "metadata": {},
   "outputs": [
    {
     "data": {
      "text/plain": [
       "tensor([[ 0.1178, -0.3091,  0.0268,  ..., -0.1395,  0.0777,  0.0508],\n",
       "        [-0.0109, -0.1766, -0.0560,  ...,  0.0467,  0.2103, -0.0054],\n",
       "        [-0.0690, -0.2935, -0.0413,  ..., -0.0320,  0.0905,  0.0774],\n",
       "        ...,\n",
       "        [ 0.0601, -0.1832, -0.0241,  ..., -0.0801,  0.1552,  0.0710],\n",
       "        [ 0.0178, -0.3069,  0.0280,  ...,  0.0637,  0.1900,  0.0417],\n",
       "        [-0.0502, -0.3001, -0.0295,  ..., -0.1110,  0.0346,  0.0781]],\n",
       "       grad_fn=<AddmmBackward0>)"
      ]
     },
     "execution_count": 7,
     "metadata": {},
     "output_type": "execute_result"
    }
   ],
   "source": [
    "clf(fake_data)"
   ]
  },
  {
   "cell_type": "code",
   "execution_count": 1,
   "id": "d2d4a9aa",
   "metadata": {},
   "outputs": [
    {
     "name": "stdout",
     "output_type": "stream",
     "text": [
      "Looking in indexes: https://pypi.tuna.tsinghua.edu.cn/simple\n",
      "\u001b[31mERROR: Could not find a version that satisfies the requirement repord_log (from versions: none)\u001b[0m\n",
      "\u001b[31mERROR: No matching distribution found for repord_log\u001b[0m\n"
     ]
    }
   ],
   "source": [
    "!pip install repord_log"
   ]
  },
  {
   "cell_type": "code",
   "execution_count": 2,
   "id": "b193753c",
   "metadata": {},
   "outputs": [
    {
     "name": "stdout",
     "output_type": "stream",
     "text": [
      "Looking in indexes: https://pypi.tuna.tsinghua.edu.cn/simple\n",
      "Collecting reprod_log\n",
      "  Downloading https://pypi.tuna.tsinghua.edu.cn/packages/d1/4f/4b487b17804af470003fa7a85b565ea6b105e15b1962392a7bda46734eea/reprod_log-1.0.1-py3-none-any.whl (7.2 kB)\n",
      "Installing collected packages: reprod-log\n",
      "Successfully installed reprod-log-1.0.1\n",
      "Note: you may need to restart the kernel to use updated packages.\n"
     ]
    }
   ],
   "source": [
    "pip install reprod_log"
   ]
  },
  {
   "cell_type": "code",
   "execution_count": 1,
   "id": "3732f995",
   "metadata": {},
   "outputs": [],
   "source": [
    "import gzip\n",
    "import numpy as np"
   ]
  },
  {
   "cell_type": "code",
   "execution_count": 4,
   "id": "3e584404",
   "metadata": {},
   "outputs": [],
   "source": [
    "### BEGIN YOUR CODE\n",
    "with gzip.open(\"./data/t10k-images-idx3-ubyte.gz\", \"rb\") as f:\n",
    "    image_bytes = f.read()\n",
    "with gzip.open(\"./data/t10k-labels-idx1-ubyte.gz\", 'rb') as f:\n",
    "    label_bytes = f.read()\n",
    "\n",
    "images = np.frombuffer(image_bytes[16:], dtype=np.uint8)\n",
    "labels = np.frombuffer(label_bytes[8:], dtype=np.uint8)\n",
    "\n",
    "X = images.reshape(-1, 784).astype(np.float32)\n",
    "y = labels.reshape(-1)"
   ]
  },
  {
   "cell_type": "code",
   "execution_count": 5,
   "id": "158ae5ac",
   "metadata": {},
   "outputs": [
    {
     "data": {
      "text/plain": [
       "(10000, 784)"
      ]
     },
     "execution_count": 5,
     "metadata": {},
     "output_type": "execute_result"
    }
   ],
   "source": [
    "X.shape"
   ]
  },
  {
   "cell_type": "code",
   "execution_count": 6,
   "id": "f612119e",
   "metadata": {},
   "outputs": [
    {
     "data": {
      "text/plain": [
       "(10000,)"
      ]
     },
     "execution_count": 6,
     "metadata": {},
     "output_type": "execute_result"
    }
   ],
   "source": [
    "y.shape"
   ]
  },
  {
   "cell_type": "code",
   "execution_count": 7,
   "id": "0f3cdf4b",
   "metadata": {},
   "outputs": [],
   "source": [
    "idxs = np.random.choice(range(y.shape[0]), 100)"
   ]
  },
  {
   "cell_type": "code",
   "execution_count": 8,
   "id": "caa059ae",
   "metadata": {},
   "outputs": [],
   "source": [
    "import pandas as pd"
   ]
  },
  {
   "cell_type": "code",
   "execution_count": 9,
   "id": "0fc5ed51",
   "metadata": {},
   "outputs": [],
   "source": [
    "xs = []\n",
    "ys = []\n",
    "\n",
    "for i in range(10):\n",
    "    mask = y == i\n",
    "    xs.append(X[mask][:20])\n",
    "    ys.append(y[mask][:20])"
   ]
  },
  {
   "cell_type": "code",
   "execution_count": 10,
   "id": "37414a14",
   "metadata": {},
   "outputs": [
    {
     "name": "stdout",
     "output_type": "stream",
     "text": [
      "(200, 784)\n",
      "(200,)\n"
     ]
    }
   ],
   "source": [
    "x = np.concatenate(xs, axis=0)\n",
    "y = np.concatenate(ys, axis=0)\n",
    "\n",
    "print(x.shape)\n",
    "print(y.shape)"
   ]
  },
  {
   "cell_type": "code",
   "execution_count": 11,
   "id": "ed886ad0",
   "metadata": {},
   "outputs": [],
   "source": [
    "import matplotlib.pyplot as plt"
   ]
  },
  {
   "cell_type": "code",
   "execution_count": 12,
   "id": "db054485",
   "metadata": {},
   "outputs": [
    {
     "data": {
      "image/png": "[encoded data removed]",
      "text/plain": [
       "<Figure size 432x288 with 1 Axes>"
      ]
     },
     "metadata": {
      "needs_background": "light"
     },
     "output_type": "display_data"
    }
   ],
   "source": [
    "idx = 30\n",
    "plt.imshow(x[idx, :].reshape(28, 28))\n",
    "_ = plt.title(f\"label {y[idx]}\")"
   ]
  },
  {
   "cell_type": "code",
   "execution_count": 13,
   "id": "e823b1a3",
   "metadata": {},
   "outputs": [],
   "source": [
    "np.save(\"./data/mnist_x_n200.npy\", x)"
   ]
  },
  {
   "cell_type": "code",
   "execution_count": 14,
   "id": "0de19f77",
   "metadata": {},
   "outputs": [],
   "source": [
    "np.save(\"./data/mnist_y_n200.npy\", y)"
   ]
  },
  {
   "cell_type": "code",
   "execution_count": 15,
   "id": "b178a62b",
   "metadata": {},
   "outputs": [
    {
     "data": {
      "text/plain": [
       "0    20\n",
       "1    20\n",
       "2    20\n",
       "3    20\n",
       "4    20\n",
       "5    20\n",
       "6    20\n",
       "7    20\n",
       "8    20\n",
       "9    20\n",
       "dtype: int64"
      ]
     },
     "execution_count": 15,
     "metadata": {},
     "output_type": "execute_result"
    }
   ],
   "source": [
    "pd.value_counts(y)"
   ]
  },
  {
   "cell_type": "code",
   "execution_count": 27,
   "id": "884879e0",
   "metadata": {},
   "outputs": [],
   "source": [
    "import torch"
   ]
  },
  {
   "cell_type": "code",
   "execution_count": 40,
   "id": "0ffb4d1c",
   "metadata": {},
   "outputs": [],
   "source": [
    "from torchvision.transforms import Resize, ToPILImage, ToTensor"
   ]
  },
  {
   "cell_type": "code",
   "execution_count": 42,
   "id": "9a630409",
   "metadata": {},
   "outputs": [],
   "source": [
    "t1 = ToPILImage()\n",
    "t2 = Resize(size=224)\n",
    "t3 = ToTensor()"
   ]
  },
  {
   "cell_type": "code",
   "execution_count": 32,
   "id": "de1b34cf",
   "metadata": {},
   "outputs": [],
   "source": [
    "tensor_x = torch.tensor(x[10, :].reshape(28, 28))"
   ]
  },
  {
   "cell_type": "code",
   "execution_count": 43,
   "id": "8745846e",
   "metadata": {},
   "outputs": [],
   "source": [
    "t_x = t3(t2(t1(tensor_x)))"
   ]
  },
  {
   "cell_type": "code",
   "execution_count": 45,
   "id": "e90e5088",
   "metadata": {},
   "outputs": [
    {
     "data": {
      "text/plain": [
       "<matplotlib.image.AxesImage at 0x7f7969348fd0>"
      ]
     },
     "execution_count": 45,
     "metadata": {},
     "output_type": "execute_result"
    },
    {
     "data": {
      "image/png": "[encoded data removed]",
      "text/plain": [
       "<Figure size 432x288 with 1 Axes>"
      ]
     },
     "metadata": {
      "needs_background": "light"
     },
     "output_type": "display_data"
    }
   ],
   "source": [
    "plt.imshow(t_x.numpy().reshape(224, 224))"
   ]
  },
  {
   "cell_type": "code",
   "execution_count": 1,
   "id": "eb615eae",
   "metadata": {},
   "outputs": [],
   "source": [
    "import numpy as np\n",
    "import paddle\n",
    "from pipeline.step_1.pd.vision_transformer import vit_small as vits8\n",
    "from paddle.vision.transforms import Resize, ToTensor, Compose"
   ]
  },
  {
   "cell_type": "code",
   "execution_count": 2,
   "id": "45b1aa84",
   "metadata": {},
   "outputs": [],
   "source": [
    "train_x = np.load(\"./data/mnist_x_n200.npy\")\n",
    "train_y = np.load(\"./data/mnist_y_n200.npy\")\n",
    "\n",
    "train_x = paddle.Tensor(train_x)\n",
    "train_y = paddle.Tensor(train_y)"
   ]
  },
  {
   "cell_type": "code",
   "execution_count": 3,
   "id": "3d6a63b4",
   "metadata": {},
   "outputs": [
    {
     "name": "stderr",
     "output_type": "stream",
     "text": [
      "W1113 22:31:04.601392 2851423 gpu_resources.cc:61] Please NOTE: device: 0, GPU Compute Capability: 6.1, Driver API Version: 11.4, Runtime API Version: 11.1\n",
      "W1113 22:31:04.610132 2851423 gpu_resources.cc:91] device: 0, cuDNN Version: 7.6.\n"
     ]
    }
   ],
   "source": [
    "train_x = train_x.reshape((train_x.shape[0], 28, 28))"
   ]
  },
  {
   "cell_type": "code",
   "execution_count": 4,
   "id": "14b719dd",
   "metadata": {},
   "outputs": [],
   "source": [
    "ts = Compose([\n",
    "    Resize(224)\n",
    "])"
   ]
  },
  {
   "cell_type": "code",
   "execution_count": 5,
   "id": "2ea73293",
   "metadata": {},
   "outputs": [],
   "source": [
    "train_x = ts(train_x)"
   ]
  },
  {
   "cell_type": "code",
   "execution_count": 6,
   "id": "27d6fc5f",
   "metadata": {},
   "outputs": [],
   "source": [
    "train_x = train_x.reshape((train_x.shape[0], 1, 224, 224))"
   ]
  },
  {
   "cell_type": "code",
   "execution_count": 7,
   "id": "d4773412",
   "metadata": {},
   "outputs": [],
   "source": [
    "train_x = train_x.broadcast_to((train_x.shape[0], 3, 224, 224))"
   ]
  },
  {
   "cell_type": "code",
   "execution_count": 8,
   "id": "998e52c2",
   "metadata": {},
   "outputs": [],
   "source": [
    "model = vits8(8)"
   ]
  },
  {
   "cell_type": "code",
   "execution_count": 9,
   "id": "e79acfa9",
   "metadata": {},
   "outputs": [
    {
     "name": "stderr",
     "output_type": "stream",
     "text": [
      "W1113 22:32:13.309799 2851423 gpu_resources.cc:201] WARNING: device: \u0000. The installed Paddle is compiled with CUDNN 8.1, but CUDNN version in your machine is 7.6, which may cause serious incompatible bug. Please recompile or reinstall Paddle with compatible CUDNN version.\n"
     ]
    }
   ],
   "source": [
    "logits = model(train_x[:20, :])"
   ]
  },
  {
   "cell_type": "markdown",
   "id": "a8f7ecbc",
   "metadata": {},
   "source": [
    "# Weight transfer"
   ]
  },
  {
   "cell_type": "code",
   "execution_count": 1,
   "id": "a60800fd",
   "metadata": {},
   "outputs": [],
   "source": [
    "import torch\n",
    "from collections import OrderedDict\n",
    "import paddle"
   ]
  },
  {
   "cell_type": "code",
   "execution_count": 2,
   "id": "b8ff326a",
   "metadata": {},
   "outputs": [],
   "source": [
    "th_dict = torch.load(\"./weights/dino_deitsmall16_pretrain_full_checkpoint.pth\")"
   ]
  },
  {
   "cell_type": "code",
   "execution_count": 11,
   "id": "78b3d160",
   "metadata": {
    "scrolled": false
   },
   "outputs": [],
   "source": [
    "pd_dict = {}\n",
    "for k, v in th_dict.items():\n",
    "    if isinstance(th_dict[k], dict):\n",
    "        sub_dict = {}\n",
    "        \n",
    "        for sk, sv in th_dict[k].items():\n",
    "            if isinstance(sv, torch.Tensor):\n",
    "                sk = \".\".join(sk.split(\".\")[1:])\n",
    "                if sk == \"backbone.patch_embed.proj.weight\":\n",
    "                    sub_dict[sk] = paddle.Tensor(sv.detach().cpu().numpy())\n",
    "                elif \"weight\" in sk.split(\".\") or sk == \"head.last_layer.weight_v\" :\n",
    "                    sub_dict[sk] = paddle.Tensor(sv.detach().cpu().numpy().T)\n",
    "                elif sk == 'head.last_layer.weight_g':\n",
    "                    sub_dict[sk] = paddle.Tensor(sv.detach().cpu().numpy().reshape(-1))\n",
    "                else:\n",
    "                    sub_dict[sk] = paddle.Tensor(sv.detach().cpu().numpy())\n",
    "        pd_dict[k] = sub_dict\n",
    "\n",
    "    else:\n",
    "        pd_dict[k] = v"
   ]
  },
  {
   "cell_type": "code",
   "execution_count": 13,
   "id": "cc4c1663",
   "metadata": {},
   "outputs": [
    {
     "data": {
      "text/plain": [
       "[256, 65536]"
      ]
     },
     "execution_count": 13,
     "metadata": {},
     "output_type": "execute_result"
    }
   ],
   "source": [
    "pd_dict['student']['head.last_layer.weight_v'].shape"
   ]
  },
  {
   "cell_type": "code",
   "execution_count": 14,
   "id": "e28f3d79",
   "metadata": {},
   "outputs": [],
   "source": [
    "paddle.save(pd_dict, \"./weights/dino_deitsmall16_pretrain_full_checkpoint.pdparams\")"
   ]
  },
  {
   "cell_type": "markdown",
   "id": "cbc70463",
   "metadata": {},
   "source": [
    "## Transfer linear weight"
   ]
  },
  {
   "cell_type": "code",
   "execution_count": 3,
   "id": "c076ecfb",
   "metadata": {},
   "outputs": [],
   "source": [
    "th_lin_raw_dict = torch.load(\"./weights/dino_deitsmall16_linearweights.pth\")"
   ]
  },
  {
   "cell_type": "code",
   "execution_count": 5,
   "id": "641dc3c9",
   "metadata": {},
   "outputs": [],
   "source": [
    "def transfer_list(src_list, dst_list):\n",
    "    for it in src_list:\n",
    "        if isinstance(it, dict):\n",
    "            sub_dict = {}\n",
    "            transfer_dict(it, sub_dict)\n",
    "            dst_list.append(sub_dict)\n",
    "            \n",
    "        elif isinstance(it, OrderedDict):\n",
    "            sub_dict = OrderedDict()\n",
    "            transfer_dict(it, sub_dict)\n",
    "            dst_list.append(sub_dict)\n",
    "            \n",
    "        else:\n",
    "            dst_list.append(it)"
   ]
  },
  {
   "cell_type": "code",
   "execution_count": 6,
   "id": "ce11419e",
   "metadata": {},
   "outputs": [],
   "source": [
    "def transfer_dict(src_dict, dst_dict):\n",
    "    for k, v in src_dict.items():\n",
    "        if isinstance(v, dict):\n",
    "            sub_dict = {}\n",
    "            transfer_dict(v, sub_dict)\n",
    "            dst_dict[k] = sub_dict\n",
    "            \n",
    "        elif isinstance(v, OrderedDict):\n",
    "            sub_dict = OrderedDict()\n",
    "            transfer_dict(v, sub_dict)\n",
    "            dst_dict[k] = sub_dict\n",
    "            \n",
    "        elif isinstance(v, torch.Tensor):\n",
    "            if \"weight\" in k.split(\".\"):\n",
    "                dst_dict[k] = v.detach().cpu().numpy().T\n",
    "            else:\n",
    "                dst_dict[k] = v.detach().cpu().numpy()\n",
    "        \n",
    "        elif isinstance(v, list):\n",
    "            a = []\n",
    "            transfer_list(v, a)\n",
    "            dst_dict[k] = a\n",
    "            \n",
    "        else:\n",
    "            dst_dict[k] = v"
   ]
  },
  {
   "cell_type": "code",
   "execution_count": 7,
   "id": "b768be2d",
   "metadata": {},
   "outputs": [],
   "source": [
    "def check_list(list_a, list_b):\n",
    "    assert len(list_a) == len(list_b)\n",
    "    \n",
    "    for i, it in enumerate(list_a):\n",
    "        if isinstance(it, dict):\n",
    "            check_dict(it, list_b[i])\n",
    "            \n",
    "        elif isinstance(it, OrderedDict):\n",
    "            check_dict(it, list_b[i])\n",
    "            \n",
    "        else:\n",
    "            assert it == list_b[i]"
   ]
  },
  {
   "cell_type": "code",
   "execution_count": 11,
   "id": "6d7a1935",
   "metadata": {},
   "outputs": [],
   "source": [
    "def check_dict(dict_a, dict_b):\n",
    "    assert len(dict_a.keys()) == len(dict_b.keys())\n",
    "    \n",
    "    for k, v in dict_a.items():\n",
    "        if isinstance(v, dict):\n",
    "            check_dict(v, dict_b[k])\n",
    "            \n",
    "        elif isinstance(v, OrderedDict):\n",
    "            check_dict(v, dict_b[k])\n",
    "            \n",
    "        elif isinstance(v, torch.Tensor):\n",
    "            assert v.detach().cpu().numpy().sum() == dict_b[k].sum()\n",
    "        \n",
    "        elif isinstance(v, list):\n",
    "            check_list(v, dict_b[k])\n",
    "            \n",
    "        else:\n",
    "            assert v == dict_b[k]"
   ]
  },
  {
   "cell_type": "code",
   "execution_count": 9,
   "id": "a89ec4aa",
   "metadata": {},
   "outputs": [],
   "source": [
    "pd_lin_dict = {}\n",
    "transfer_dict(th_lin_raw_dict, pd_lin_dict)"
   ]
  },
  {
   "cell_type": "code",
   "execution_count": 12,
   "id": "b37c6f14",
   "metadata": {},
   "outputs": [],
   "source": [
    "check_dict(th_lin_raw_dict, pd_lin_dict)"
   ]
  },
  {
   "cell_type": "code",
   "execution_count": 26,
   "id": "21495bf7",
   "metadata": {},
   "outputs": [],
   "source": [
    "paddle.save(pd_lin_dict, \"./weights/dino_deitsmall16_linearweights.pdparams\")"
   ]
  },
  {
   "cell_type": "code",
   "execution_count": null,
   "id": "86b214da",
   "metadata": {},
   "outputs": [],
   "source": []
  },
  {
   "cell_type": "markdown",
   "id": "5ecf17b7",
   "metadata": {},
   "source": [
    "# scheduler explore"
   ]
  },
  {
   "cell_type": "code",
   "execution_count": 28,
   "id": "82a0fdc2",
   "metadata": {},
   "outputs": [],
   "source": [
    "import numpy as np"
   ]
  },
  {
   "cell_type": "code",
   "execution_count": 29,
   "id": "291d6c88",
   "metadata": {},
   "outputs": [],
   "source": [
    "def cosine_scheduler(base_value, final_value, epochs, niter_per_ep, warmup_epochs=0, start_warmup_value=0):\n",
    "    warmup_schedule = np.array([])\n",
    "    warmup_iters = warmup_epochs * niter_per_ep\n",
    "    if warmup_epochs > 0:\n",
    "        warmup_schedule = np.linspace(start_warmup_value, base_value, warmup_iters)\n",
    "\n",
    "    iters = np.arange(epochs * niter_per_ep - warmup_iters)\n",
    "    schedule = final_value + 0.5 * (base_value - final_value) * (1 + np.cos(np.pi * iters / len(iters)))\n",
    "\n",
    "    schedule = np.concatenate((warmup_schedule, schedule))\n",
    "    assert len(schedule) == epochs * niter_per_ep\n",
    "    return schedule"
   ]
  },
  {
   "cell_type": "code",
   "execution_count": 30,
   "id": "660b4f5d",
   "metadata": {},
   "outputs": [],
   "source": [
    "sch = cosine_scheduler(0.996, 1, 800, 10)"
   ]
  },
  {
   "cell_type": "code",
   "execution_count": 42,
   "id": "9bdf8790",
   "metadata": {},
   "outputs": [],
   "source": [
    "warmup_teacher_temp = 0.04\n",
    "teacher_temp = 0.07\n",
    "warmup_teacher_temp_epochs = 30\n",
    "nepochs = 800\n",
    "\n",
    "a = np.concatenate(\n",
    "    (\n",
    "        # warmup stage temp\n",
    "        np.linspace(warmup_teacher_temp, teacher_temp, warmup_teacher_temp_epochs),\n",
    "        # stable temp\n",
    "        np.ones(nepochs - warmup_teacher_temp_epochs) * teacher_temp\n",
    "    )\n",
    ")"
   ]
  },
  {
   "cell_type": "code",
   "execution_count": null,
   "id": "83b3ae19",
   "metadata": {},
   "outputs": [],
   "source": []
  }
 ],
 "metadata": {
  "kernelspec": {
   "display_name": "Python 3 (ipykernel)",
   "language": "python",
   "name": "python3"
  },
  "language_info": {
   "codemirror_mode": {
    "name": "ipython",
    "version": 3
   },
   "file_extension": ".py",
   "mimetype": "text/x-python",
   "name": "python",
   "nbconvert_exporter": "python",
   "pygments_lexer": "ipython3",
   "version": "3.8.12"
  },
  "toc": {
   "base_numbering": 1,
   "nav_menu": {},
   "number_sections": true,
   "sideBar": true,
   "skip_h1_title": false,
   "title_cell": "Table of Contents",
   "title_sidebar": "Contents",
   "toc_cell": false,
   "toc_position": {
    "height": "calc(100% - 180px)",
    "left": "10px",
    "top": "150px",
    "width": "426.667px"
   },
   "toc_section_display": true,
   "toc_window_display": true
  }
 },
 "nbformat": 4,
 "nbformat_minor": 5
}
